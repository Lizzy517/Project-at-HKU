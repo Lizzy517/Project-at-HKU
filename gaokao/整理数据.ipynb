{
 "cells": [
  {
   "cell_type": "code",
   "execution_count": 5,
   "metadata": {},
   "outputs": [
    {
     "name": "stdout",
     "output_type": "stream",
     "text": [
      "Excel 文件已保存\n"
     ]
    }
   ],
   "source": [
    "import pandas as pd\n",
    "\n",
    "# 从 .dta 文件中读取数据\n",
    "data = pd.read_stata('/Users/isabellawu/Desktop/RA-Bingjing/battery.dta')\n",
    "\n",
    "# 获取所有学校的名称\n",
    "schools = data['学校'].unique()\n",
    "\n",
    "# 获取所有生源地的名称\n",
    "source_areas = data['生源地'].unique()\n",
    "\n",
    "# 创建一个空的 DataFrame 用于存储结果\n",
    "result_data = []\n",
    "\n",
    "# 遍历所有学校\n",
    "for school in schools:\n",
    "    # 遍历所有生源地\n",
    "    for source_area in source_areas:\n",
    "        # 筛选出当前学校当前生源地的录取信息\n",
    "        school_source_data = data[(data['学校'] == school) & (data['生源地'] == source_area)]\n",
    "\n",
    "        # 遍历年份范围\n",
    "        for year in range(2014, 2024):\n",
    "            # 筛选出当前学校当前生源地当前年份的录取信息\n",
    "            year_data = school_source_data[school_source_data['年份'] == year]\n",
    "\n",
    "            # 计算每年的总录取人数、solar=1 和 related_solar=1 的录取人数\n",
    "            total_admissions = year_data['招生人数'].sum()\n",
    "            battery_admissions = year_data[year_data['battery'] == 1]['招生人数'].sum()\n",
    "            related_battery_admissions = year_data[year_data['related_battery'] == 1]['招生人数'].sum()\n",
    "\n",
    "            # 将结果添加到结果列表中\n",
    "            result_data.append({\n",
    "                '学校': school,\n",
    "                '生源地': source_area,\n",
    "                '年份': year,\n",
    "                'Total': total_admissions,\n",
    "                'battery': battery_admissions,\n",
    "                'related_battery' : related_battery_admissions\n",
    "            })\n",
    "\n",
    "# 将结果列表转换为 DataFrame\n",
    "result_df = pd.DataFrame(result_data)\n",
    "\n",
    "# 将结果保存到 Excel 文件\n",
    "result_df.to_excel('/Users/isabellawu/Desktop/RA-Bingjing/battery_source2.xlsx', index=False)\n",
    "\n",
    "print(\"Excel 文件已保存\")"
   ]
  },
  {
   "cell_type": "code",
   "execution_count": 20,
   "metadata": {},
   "outputs": [
    {
     "name": "stdout",
     "output_type": "stream",
     "text": [
      "1\n",
      "Excel 文件已保存\n"
     ]
    }
   ],
   "source": [
    "import pandas as pd\n",
    "\n",
    "# 从 .dta 文件中读取数据\n",
    "data = pd.read_stata('/Users/isabellawu/Desktop/RA-Bingjing/solar.dta')\n",
    "print(\"1\")\n",
    "\n",
    "# 获取所有学校的名称\n",
    "schools = data['学校'].unique()\n",
    "\n",
    "# 创建一个空的 DataFrame 用于存储结果\n",
    "result_data = []\n",
    "\n",
    "# 遍历所有学校\n",
    "for school in schools:\n",
    "    # 筛选出当前学校的录取信息\n",
    "    school_data = data[data['学校'] == school]\n",
    "\n",
    "    # 遍历年份范围\n",
    "    for year in range(2014, 2024):\n",
    "        # 筛选出当前学校当前年份的录取信息\n",
    "        year_data = school_data[school_data['年份'] == year]\n",
    "\n",
    "        # 计算每年的总录取人数、solar=1 和 related_solar=1 的录取人数\n",
    "        total_admissions = year_data['招生人数'].sum()\n",
    "        solar_admissions = year_data[year_data['solar'] == 1]['招生人数'].sum()\n",
    "\n",
    "        # 将结果添加到结果列表中\n",
    "        result_data.append({\n",
    "            'School': school,\n",
    "            'Year': year,\n",
    "            'Total': total_admissions,\n",
    "            'solar': solar_admissions\n",
    "        })\n",
    "\n",
    "# 将结果列表转换为 DataFrame\n",
    "result_df = pd.DataFrame(result_data)\n",
    "\n",
    "# 将结果保存到 Excel 文件\n",
    "result_df.to_excel('/Users/isabellawu/Desktop/RA-Bingjing/admissions_data_solar.xlsx', index=False)\n",
    "\n",
    "print(\"Excel 文件已保存\")"
   ]
  },
  {
   "cell_type": "code",
   "execution_count": null,
   "metadata": {},
   "outputs": [],
   "source": []
  }
 ],
 "metadata": {
  "kernelspec": {
   "display_name": "Python 3",
   "language": "python",
   "name": "python3"
  },
  "language_info": {
   "codemirror_mode": {
    "name": "ipython",
    "version": 3
   },
   "file_extension": ".py",
   "mimetype": "text/x-python",
   "name": "python",
   "nbconvert_exporter": "python",
   "pygments_lexer": "ipython3",
   "version": "3.9.6"
  }
 },
 "nbformat": 4,
 "nbformat_minor": 2
}
